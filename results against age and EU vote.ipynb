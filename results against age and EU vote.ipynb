{
 "cells": [
  {
   "cell_type": "markdown",
   "metadata": {},
   "source": [
    "# Create interactive graph for results"
   ]
  },
  {
   "cell_type": "markdown",
   "metadata": {},
   "source": [
    "Import relevant modules"
   ]
  },
  {
   "cell_type": "code",
   "execution_count": 113,
   "metadata": {},
   "outputs": [],
   "source": [
    "import pandas as pd\n",
    "import seaborn as sns \n",
    "import matplotlib.pyplot as plt"
   ]
  },
  {
   "cell_type": "markdown",
   "metadata": {},
   "source": [
    "Import the relevant files needed for this, we will be plotting based upo age and upon EU referendum results for the constituency"
   ]
  },
  {
   "cell_type": "code",
   "execution_count": 114,
   "metadata": {},
   "outputs": [],
   "source": [
    "df_age = pd.read_csv(r\"C:\\Users\\Josh\\GitHub\\election-data-analysis-2019-master\\Age_by_year_data.csv\")\n",
    "df_res = pd.read_csv(r\"C:\\Users\\Josh\\GitHub\\election-data-analysis-2019-master\\constituency_results.csv\")\n",
    "df_EU = pd.read_csv(r\"C:\\Users\\Josh\\GitHub\\election-data-analysis-2019-master\\eureferendum_constituency.csv\")"
   ]
  },
  {
   "cell_type": "code",
   "execution_count": 115,
   "metadata": {},
   "outputs": [
    {
     "data": {
      "text/html": [
       "<div>\n",
       "<style scoped>\n",
       "    .dataframe tbody tr th:only-of-type {\n",
       "        vertical-align: middle;\n",
       "    }\n",
       "\n",
       "    .dataframe tbody tr th {\n",
       "        vertical-align: top;\n",
       "    }\n",
       "\n",
       "    .dataframe thead th {\n",
       "        text-align: right;\n",
       "    }\n",
       "</style>\n",
       "<table border=\"1\" class=\"dataframe\">\n",
       "  <thead>\n",
       "    <tr style=\"text-align: right;\">\n",
       "      <th></th>\n",
       "      <th>PCON11CD</th>\n",
       "      <th>RegionID</th>\n",
       "      <th>RegionNM</th>\n",
       "      <th>All Ages</th>\n",
       "      <th>Age_year</th>\n",
       "      <th>Age_pop</th>\n",
       "      <th>Age_percent</th>\n",
       "      <th>Reg_percent</th>\n",
       "      <th>UK_percent</th>\n",
       "    </tr>\n",
       "  </thead>\n",
       "  <tbody>\n",
       "    <tr>\n",
       "      <th>0</th>\n",
       "      <td>E14000530</td>\n",
       "      <td>E15000008</td>\n",
       "      <td>South East</td>\n",
       "      <td>105601</td>\n",
       "      <td>0</td>\n",
       "      <td>1419</td>\n",
       "      <td>0.013437</td>\n",
       "      <td>0.010786</td>\n",
       "      <td>0.011218</td>\n",
       "    </tr>\n",
       "    <tr>\n",
       "      <th>1</th>\n",
       "      <td>E14000530</td>\n",
       "      <td>E15000008</td>\n",
       "      <td>South East</td>\n",
       "      <td>105601</td>\n",
       "      <td>1</td>\n",
       "      <td>1341</td>\n",
       "      <td>0.012699</td>\n",
       "      <td>0.011216</td>\n",
       "      <td>0.011599</td>\n",
       "    </tr>\n",
       "    <tr>\n",
       "      <th>2</th>\n",
       "      <td>E14000530</td>\n",
       "      <td>E15000008</td>\n",
       "      <td>South East</td>\n",
       "      <td>105601</td>\n",
       "      <td>2</td>\n",
       "      <td>1429</td>\n",
       "      <td>0.013532</td>\n",
       "      <td>0.011750</td>\n",
       "      <td>0.011986</td>\n",
       "    </tr>\n",
       "    <tr>\n",
       "      <th>3</th>\n",
       "      <td>E14000530</td>\n",
       "      <td>E15000008</td>\n",
       "      <td>South East</td>\n",
       "      <td>105601</td>\n",
       "      <td>3</td>\n",
       "      <td>1478</td>\n",
       "      <td>0.013996</td>\n",
       "      <td>0.011928</td>\n",
       "      <td>0.011999</td>\n",
       "    </tr>\n",
       "    <tr>\n",
       "      <th>4</th>\n",
       "      <td>E14000530</td>\n",
       "      <td>E15000008</td>\n",
       "      <td>South East</td>\n",
       "      <td>105601</td>\n",
       "      <td>4</td>\n",
       "      <td>1344</td>\n",
       "      <td>0.012727</td>\n",
       "      <td>0.012046</td>\n",
       "      <td>0.012112</td>\n",
       "    </tr>\n",
       "  </tbody>\n",
       "</table>\n",
       "</div>"
      ],
      "text/plain": [
       "    PCON11CD   RegionID    RegionNM  All Ages  Age_year  Age_pop  Age_percent  \\\n",
       "0  E14000530  E15000008  South East    105601         0     1419     0.013437   \n",
       "1  E14000530  E15000008  South East    105601         1     1341     0.012699   \n",
       "2  E14000530  E15000008  South East    105601         2     1429     0.013532   \n",
       "3  E14000530  E15000008  South East    105601         3     1478     0.013996   \n",
       "4  E14000530  E15000008  South East    105601         4     1344     0.012727   \n",
       "\n",
       "   Reg_percent  UK_percent  \n",
       "0     0.010786    0.011218  \n",
       "1     0.011216    0.011599  \n",
       "2     0.011750    0.011986  \n",
       "3     0.011928    0.011999  \n",
       "4     0.012046    0.012112  "
      ]
     },
     "execution_count": 115,
     "metadata": {},
     "output_type": "execute_result"
    }
   ],
   "source": [
    "df_age.head(5)"
   ]
  },
  {
   "cell_type": "code",
   "execution_count": 116,
   "metadata": {},
   "outputs": [
    {
     "data": {
      "text/html": [
       "<div>\n",
       "<style scoped>\n",
       "    .dataframe tbody tr th:only-of-type {\n",
       "        vertical-align: middle;\n",
       "    }\n",
       "\n",
       "    .dataframe tbody tr th {\n",
       "        vertical-align: top;\n",
       "    }\n",
       "\n",
       "    .dataframe thead th {\n",
       "        text-align: right;\n",
       "    }\n",
       "</style>\n",
       "<table border=\"1\" class=\"dataframe\">\n",
       "  <thead>\n",
       "    <tr style=\"text-align: right;\">\n",
       "      <th></th>\n",
       "      <th>ons</th>\n",
       "      <th>win</th>\n",
       "      <th>last_win</th>\n",
       "      <th>change</th>\n",
       "    </tr>\n",
       "  </thead>\n",
       "  <tbody>\n",
       "    <tr>\n",
       "      <th>0</th>\n",
       "      <td>W07000049</td>\n",
       "      <td>LAB</td>\n",
       "      <td>LAB</td>\n",
       "      <td>LAB HOLD</td>\n",
       "    </tr>\n",
       "    <tr>\n",
       "      <th>1</th>\n",
       "      <td>W07000058</td>\n",
       "      <td>CON</td>\n",
       "      <td>CON</td>\n",
       "      <td>CON HOLD</td>\n",
       "    </tr>\n",
       "    <tr>\n",
       "      <th>2</th>\n",
       "      <td>S14000001</td>\n",
       "      <td>SNP</td>\n",
       "      <td>SNP</td>\n",
       "      <td>SNP HOLD</td>\n",
       "    </tr>\n",
       "    <tr>\n",
       "      <th>3</th>\n",
       "      <td>S14000002</td>\n",
       "      <td>SNP</td>\n",
       "      <td>CON</td>\n",
       "      <td>SNP GAIN FROM CON</td>\n",
       "    </tr>\n",
       "    <tr>\n",
       "      <th>4</th>\n",
       "      <td>S14000058</td>\n",
       "      <td>CON</td>\n",
       "      <td>CON</td>\n",
       "      <td>CON HOLD</td>\n",
       "    </tr>\n",
       "  </tbody>\n",
       "</table>\n",
       "</div>"
      ],
      "text/plain": [
       "         ons  win last_win             change\n",
       "0  W07000049  LAB      LAB           LAB HOLD\n",
       "1  W07000058  CON      CON           CON HOLD\n",
       "2  S14000001  SNP      SNP           SNP HOLD\n",
       "3  S14000002  SNP      CON  SNP GAIN FROM CON\n",
       "4  S14000058  CON      CON           CON HOLD"
      ]
     },
     "execution_count": 116,
     "metadata": {},
     "output_type": "execute_result"
    }
   ],
   "source": [
    "df_res.head(5)"
   ]
  },
  {
   "cell_type": "code",
   "execution_count": 117,
   "metadata": {},
   "outputs": [
    {
     "data": {
      "text/html": [
       "<div>\n",
       "<style scoped>\n",
       "    .dataframe tbody tr th:only-of-type {\n",
       "        vertical-align: middle;\n",
       "    }\n",
       "\n",
       "    .dataframe tbody tr th {\n",
       "        vertical-align: top;\n",
       "    }\n",
       "\n",
       "    .dataframe thead th {\n",
       "        text-align: right;\n",
       "    }\n",
       "</style>\n",
       "<table border=\"1\" class=\"dataframe\">\n",
       "  <thead>\n",
       "    <tr style=\"text-align: right;\">\n",
       "      <th></th>\n",
       "      <th>ons_code</th>\n",
       "      <th>constituency_name</th>\n",
       "      <th>estimate</th>\n",
       "      <th>known</th>\n",
       "      <th>known_leave</th>\n",
       "      <th>leave_to_use</th>\n",
       "    </tr>\n",
       "  </thead>\n",
       "  <tbody>\n",
       "    <tr>\n",
       "      <th>0</th>\n",
       "      <td>E14000582</td>\n",
       "      <td>Boston and Skegness</td>\n",
       "      <td>75.60%</td>\n",
       "      <td>No</td>\n",
       "      <td>0.00%</td>\n",
       "      <td>75.60%</td>\n",
       "    </tr>\n",
       "    <tr>\n",
       "      <th>1</th>\n",
       "      <td>E14001011</td>\n",
       "      <td>Walsall North</td>\n",
       "      <td>71.20%</td>\n",
       "      <td>Yes</td>\n",
       "      <td>74.20%</td>\n",
       "      <td>74.20%</td>\n",
       "    </tr>\n",
       "    <tr>\n",
       "      <th>2</th>\n",
       "      <td>E14000642</td>\n",
       "      <td>Clacton</td>\n",
       "      <td>73.00%</td>\n",
       "      <td>No</td>\n",
       "      <td>0.00%</td>\n",
       "      <td>73.00%</td>\n",
       "    </tr>\n",
       "    <tr>\n",
       "      <th>3</th>\n",
       "      <td>E14000933</td>\n",
       "      <td>South Basildon and East Thurrock</td>\n",
       "      <td>73.00%</td>\n",
       "      <td>No</td>\n",
       "      <td>0.00%</td>\n",
       "      <td>73.00%</td>\n",
       "    </tr>\n",
       "    <tr>\n",
       "      <th>4</th>\n",
       "      <td>E14000771</td>\n",
       "      <td>Kingston upon Hull East</td>\n",
       "      <td>72.80%</td>\n",
       "      <td>No</td>\n",
       "      <td>0.00%</td>\n",
       "      <td>72.80%</td>\n",
       "    </tr>\n",
       "  </tbody>\n",
       "</table>\n",
       "</div>"
      ],
      "text/plain": [
       "    ons_code                 constituency_name estimate known known_leave  \\\n",
       "0  E14000582               Boston and Skegness   75.60%    No       0.00%   \n",
       "1  E14001011                     Walsall North   71.20%   Yes      74.20%   \n",
       "2  E14000642                           Clacton   73.00%    No       0.00%   \n",
       "3  E14000933  South Basildon and East Thurrock   73.00%    No       0.00%   \n",
       "4  E14000771           Kingston upon Hull East   72.80%    No       0.00%   \n",
       "\n",
       "  leave_to_use  \n",
       "0       75.60%  \n",
       "1       74.20%  \n",
       "2       73.00%  \n",
       "3       73.00%  \n",
       "4       72.80%  "
      ]
     },
     "execution_count": 117,
     "metadata": {},
     "output_type": "execute_result"
    }
   ],
   "source": [
    "df_EU.head(5)"
   ]
  },
  {
   "cell_type": "markdown",
   "metadata": {},
   "source": [
    "Important to make some notes about these data frames and the corresponding data. Age and EU taken from 'House of Commons Library' and the results CSV taken from data publically availabe via BBC. "
   ]
  },
  {
   "cell_type": "markdown",
   "metadata": {},
   "source": [
    "Headers defined:\n",
    "- PCON11CD/ons/ons_code: Ordnance survey constituency id\n",
    "- leave_to_use: Leave vote as % of total vote (data is not known for all constituencies so this is an estimate)\n",
    "- Age_year: Year of age \n",
    "- Age_precent : % of people in that constituency with that age"
   ]
  },
  {
   "cell_type": "markdown",
   "metadata": {},
   "source": [
    "Define our required age range i.e. children can't vote and very little data for over 50"
   ]
  },
  {
   "cell_type": "code",
   "execution_count": 118,
   "metadata": {},
   "outputs": [],
   "source": [
    "age_start = 18\n",
    "age_end = 50\n",
    "\n",
    "df_age_range = df_age.query(str(age_start) + '<= Age_year <=' + str(age_end)).groupby('PCON11CD')[['Age_percent']].sum()"
   ]
  },
  {
   "cell_type": "markdown",
   "metadata": {},
   "source": [
    "Join the EU df with the election result df"
   ]
  },
  {
   "cell_type": "code",
   "execution_count": 119,
   "metadata": {},
   "outputs": [],
   "source": [
    "df_res_EU = df_EU.join(df_res.set_index(['ons']), on=['ons_code'], how='inner')"
   ]
  },
  {
   "cell_type": "code",
   "execution_count": 120,
   "metadata": {},
   "outputs": [
    {
     "data": {
      "text/html": [
       "<div>\n",
       "<style scoped>\n",
       "    .dataframe tbody tr th:only-of-type {\n",
       "        vertical-align: middle;\n",
       "    }\n",
       "\n",
       "    .dataframe tbody tr th {\n",
       "        vertical-align: top;\n",
       "    }\n",
       "\n",
       "    .dataframe thead th {\n",
       "        text-align: right;\n",
       "    }\n",
       "</style>\n",
       "<table border=\"1\" class=\"dataframe\">\n",
       "  <thead>\n",
       "    <tr style=\"text-align: right;\">\n",
       "      <th></th>\n",
       "      <th>ons_code</th>\n",
       "      <th>constituency_name</th>\n",
       "      <th>estimate</th>\n",
       "      <th>known</th>\n",
       "      <th>known_leave</th>\n",
       "      <th>leave_to_use</th>\n",
       "      <th>win</th>\n",
       "      <th>last_win</th>\n",
       "      <th>change</th>\n",
       "    </tr>\n",
       "  </thead>\n",
       "  <tbody>\n",
       "    <tr>\n",
       "      <th>0</th>\n",
       "      <td>E14000582</td>\n",
       "      <td>Boston and Skegness</td>\n",
       "      <td>75.60%</td>\n",
       "      <td>No</td>\n",
       "      <td>0.00%</td>\n",
       "      <td>75.60%</td>\n",
       "      <td>CON</td>\n",
       "      <td>CON</td>\n",
       "      <td>CON HOLD</td>\n",
       "    </tr>\n",
       "    <tr>\n",
       "      <th>1</th>\n",
       "      <td>E14001011</td>\n",
       "      <td>Walsall North</td>\n",
       "      <td>71.20%</td>\n",
       "      <td>Yes</td>\n",
       "      <td>74.20%</td>\n",
       "      <td>74.20%</td>\n",
       "      <td>CON</td>\n",
       "      <td>CON</td>\n",
       "      <td>CON HOLD</td>\n",
       "    </tr>\n",
       "    <tr>\n",
       "      <th>2</th>\n",
       "      <td>E14000642</td>\n",
       "      <td>Clacton</td>\n",
       "      <td>73.00%</td>\n",
       "      <td>No</td>\n",
       "      <td>0.00%</td>\n",
       "      <td>73.00%</td>\n",
       "      <td>CON</td>\n",
       "      <td>CON</td>\n",
       "      <td>CON HOLD</td>\n",
       "    </tr>\n",
       "    <tr>\n",
       "      <th>3</th>\n",
       "      <td>E14000933</td>\n",
       "      <td>South Basildon and East Thurrock</td>\n",
       "      <td>73.00%</td>\n",
       "      <td>No</td>\n",
       "      <td>0.00%</td>\n",
       "      <td>73.00%</td>\n",
       "      <td>CON</td>\n",
       "      <td>CON</td>\n",
       "      <td>CON HOLD</td>\n",
       "    </tr>\n",
       "    <tr>\n",
       "      <th>4</th>\n",
       "      <td>E14000771</td>\n",
       "      <td>Kingston upon Hull East</td>\n",
       "      <td>72.80%</td>\n",
       "      <td>No</td>\n",
       "      <td>0.00%</td>\n",
       "      <td>72.80%</td>\n",
       "      <td>LAB</td>\n",
       "      <td>LAB</td>\n",
       "      <td>LAB HOLD</td>\n",
       "    </tr>\n",
       "  </tbody>\n",
       "</table>\n",
       "</div>"
      ],
      "text/plain": [
       "    ons_code                 constituency_name estimate known known_leave  \\\n",
       "0  E14000582               Boston and Skegness   75.60%    No       0.00%   \n",
       "1  E14001011                     Walsall North   71.20%   Yes      74.20%   \n",
       "2  E14000642                           Clacton   73.00%    No       0.00%   \n",
       "3  E14000933  South Basildon and East Thurrock   73.00%    No       0.00%   \n",
       "4  E14000771           Kingston upon Hull East   72.80%    No       0.00%   \n",
       "\n",
       "  leave_to_use  win last_win    change  \n",
       "0       75.60%  CON      CON  CON HOLD  \n",
       "1       74.20%  CON      CON  CON HOLD  \n",
       "2       73.00%  CON      CON  CON HOLD  \n",
       "3       73.00%  CON      CON  CON HOLD  \n",
       "4       72.80%  LAB      LAB  LAB HOLD  "
      ]
     },
     "execution_count": 120,
     "metadata": {},
     "output_type": "execute_result"
    }
   ],
   "source": [
    "df_res_EU.head(5)"
   ]
  },
  {
   "cell_type": "markdown",
   "metadata": {},
   "source": [
    "Join this with the age data "
   ]
  },
  {
   "cell_type": "code",
   "execution_count": 121,
   "metadata": {},
   "outputs": [],
   "source": [
    "df_res_EU_age = df_age_range.join(df_res_EU.set_index(['ons_code']), on=['PCON11CD'], how='inner')"
   ]
  },
  {
   "cell_type": "code",
   "execution_count": 122,
   "metadata": {},
   "outputs": [
    {
     "data": {
      "text/html": [
       "<div>\n",
       "<style scoped>\n",
       "    .dataframe tbody tr th:only-of-type {\n",
       "        vertical-align: middle;\n",
       "    }\n",
       "\n",
       "    .dataframe tbody tr th {\n",
       "        vertical-align: top;\n",
       "    }\n",
       "\n",
       "    .dataframe thead th {\n",
       "        text-align: right;\n",
       "    }\n",
       "</style>\n",
       "<table border=\"1\" class=\"dataframe\">\n",
       "  <thead>\n",
       "    <tr style=\"text-align: right;\">\n",
       "      <th></th>\n",
       "      <th>Age_percent</th>\n",
       "      <th>constituency_name</th>\n",
       "      <th>estimate</th>\n",
       "      <th>known</th>\n",
       "      <th>known_leave</th>\n",
       "      <th>leave_to_use</th>\n",
       "      <th>win</th>\n",
       "      <th>last_win</th>\n",
       "      <th>change</th>\n",
       "    </tr>\n",
       "    <tr>\n",
       "      <th>PCON11CD</th>\n",
       "      <th></th>\n",
       "      <th></th>\n",
       "      <th></th>\n",
       "      <th></th>\n",
       "      <th></th>\n",
       "      <th></th>\n",
       "      <th></th>\n",
       "      <th></th>\n",
       "      <th></th>\n",
       "    </tr>\n",
       "  </thead>\n",
       "  <tbody>\n",
       "    <tr>\n",
       "      <th>E14000530</th>\n",
       "      <td>0.459721</td>\n",
       "      <td>Aldershot</td>\n",
       "      <td>58.10%</td>\n",
       "      <td>Yes</td>\n",
       "      <td>57.90%</td>\n",
       "      <td>57.90%</td>\n",
       "      <td>CON</td>\n",
       "      <td>CON</td>\n",
       "      <td>CON HOLD</td>\n",
       "    </tr>\n",
       "    <tr>\n",
       "      <th>E14000531</th>\n",
       "      <td>0.376826</td>\n",
       "      <td>Aldridge-Brownhills</td>\n",
       "      <td>68.70%</td>\n",
       "      <td>Yes</td>\n",
       "      <td>67.80%</td>\n",
       "      <td>67.80%</td>\n",
       "      <td>CON</td>\n",
       "      <td>CON</td>\n",
       "      <td>CON HOLD</td>\n",
       "    </tr>\n",
       "    <tr>\n",
       "      <th>E14000532</th>\n",
       "      <td>0.395912</td>\n",
       "      <td>Altrincham and Sale West</td>\n",
       "      <td>38.60%</td>\n",
       "      <td>No</td>\n",
       "      <td>0.00%</td>\n",
       "      <td>38.60%</td>\n",
       "      <td>CON</td>\n",
       "      <td>CON</td>\n",
       "      <td>CON HOLD</td>\n",
       "    </tr>\n",
       "    <tr>\n",
       "      <th>E14000533</th>\n",
       "      <td>0.398047</td>\n",
       "      <td>Amber Valley</td>\n",
       "      <td>65.30%</td>\n",
       "      <td>No</td>\n",
       "      <td>0.00%</td>\n",
       "      <td>65.30%</td>\n",
       "      <td>CON</td>\n",
       "      <td>CON</td>\n",
       "      <td>CON HOLD</td>\n",
       "    </tr>\n",
       "    <tr>\n",
       "      <th>E14000534</th>\n",
       "      <td>0.321523</td>\n",
       "      <td>Arundel and South Downs</td>\n",
       "      <td>49.70%</td>\n",
       "      <td>No</td>\n",
       "      <td>0.00%</td>\n",
       "      <td>49.70%</td>\n",
       "      <td>CON</td>\n",
       "      <td>CON</td>\n",
       "      <td>CON HOLD</td>\n",
       "    </tr>\n",
       "  </tbody>\n",
       "</table>\n",
       "</div>"
      ],
      "text/plain": [
       "           Age_percent         constituency_name estimate known known_leave  \\\n",
       "PCON11CD                                                                      \n",
       "E14000530     0.459721                 Aldershot   58.10%   Yes      57.90%   \n",
       "E14000531     0.376826       Aldridge-Brownhills   68.70%   Yes      67.80%   \n",
       "E14000532     0.395912  Altrincham and Sale West   38.60%    No       0.00%   \n",
       "E14000533     0.398047              Amber Valley   65.30%    No       0.00%   \n",
       "E14000534     0.321523   Arundel and South Downs   49.70%    No       0.00%   \n",
       "\n",
       "          leave_to_use  win last_win    change  \n",
       "PCON11CD                                        \n",
       "E14000530       57.90%  CON      CON  CON HOLD  \n",
       "E14000531       67.80%  CON      CON  CON HOLD  \n",
       "E14000532       38.60%  CON      CON  CON HOLD  \n",
       "E14000533       65.30%  CON      CON  CON HOLD  \n",
       "E14000534       49.70%  CON      CON  CON HOLD  "
      ]
     },
     "execution_count": 122,
     "metadata": {},
     "output_type": "execute_result"
    }
   ],
   "source": [
    "df_res_EU_age.head(5)"
   ]
  },
  {
   "cell_type": "markdown",
   "metadata": {},
   "source": [
    "replace WIN with HOLD, stops conusion in the data"
   ]
  },
  {
   "cell_type": "code",
   "execution_count": 123,
   "metadata": {},
   "outputs": [],
   "source": [
    "df_res_EU_age['headline'] = df_res_EU_age['change'].apply(lambda x: ' '.join(x.split()[:2])).str.replace('WIN', 'HOLD')"
   ]
  },
  {
   "cell_type": "markdown",
   "metadata": {},
   "source": [
    "Convert the percentages to decimals and remove % sign so they can be treated as floats not strings"
   ]
  },
  {
   "cell_type": "code",
   "execution_count": 124,
   "metadata": {},
   "outputs": [],
   "source": [
    "df_res_EU_age['leave_to_use'] = df_res_EU_age['leave_to_use'].str.rstrip('%').astype('float')/100.0"
   ]
  },
  {
   "cell_type": "markdown",
   "metadata": {},
   "source": [
    "Round percentages for easier mapping"
   ]
  },
  {
   "cell_type": "code",
   "execution_count": 125,
   "metadata": {},
   "outputs": [],
   "source": [
    "decimals = 4\n",
    "df_tot = df_res_EU_age\n",
    "df_tot['leave_to_use'] = df_tot['leave_to_use'].apply(lambda x: round(x, decimals))\n",
    "df_tot['Age_percent'] = df_tot['Age_percent'].apply(lambda x: round(x, decimals))"
   ]
  },
  {
   "cell_type": "markdown",
   "metadata": {},
   "source": [
    "Graph the data, start by making colour dictionary for the parties and the seat gains"
   ]
  },
  {
   "cell_type": "code",
   "execution_count": 126,
   "metadata": {},
   "outputs": [],
   "source": [
    "colour_dict = dict({'CON HOLD':'b',\n",
    "                  'CON GAIN':'aqua',\n",
    "                  'LAB HOLD': 'red',\n",
    "                  'LAB GAIN': 'violet',\n",
    "                  'GRN HOLD': 'g',\n",
    "                  'DUP HOLD': 'sandybrown',\n",
    "                  'LD HOLD': 'yellow',\n",
    "                  'LD GAIN': 'orange',\n",
    "                  'SNP HOLD': 'black',\n",
    "                  'SNP GAIN': 'gray',\n",
    "                  'PC HOLD': 'pink',\n",
    "                  'SF HOLD': 'peru',\n",
    "                  'SF GAIN': 'wheat',\n",
    "                  'SDLP HOLD': 'salmon',\n",
    "                  'SDLP GAIN': 'lightsalmon',\n",
    "                  'APNI GAIN': 'lawngreen',\n",
    "                  'SPE HOLD': 'navy'})"
   ]
  },
  {
   "cell_type": "code",
   "execution_count": 127,
   "metadata": {},
   "outputs": [
    {
     "data": {
      "image/png": "[encoded data removed]",
      "text/plain": [
       "<Figure size 842.4x595.44 with 1 Axes>"
      ]
     },
     "metadata": {
      "needs_background": "light"
     },
     "output_type": "display_data"
    }
   ],
   "source": [
    "sns.lmplot(y=\"leave_to_use\", x=\"Age_percent\", data=df_tot, hue=\"headline\", height=8.27, aspect=11.7/8.27, fit_reg=False, palette=colour_dict, legend=False)\n",
    "\n",
    "plt.gca().set_xticklabels(['{:.0f}%'.format(x*100) for x in plt.gca().get_xticks()]) \n",
    "plt.gca().set_yticklabels(['{:.0f}%'.format(x*100) for x in plt.gca().get_yticks()]) \n",
    "\n",
    "plt.ylabel(\"Leave %\")\n",
    "age_range = str(age_start) + \"-\" + str(age_end)\n",
    "plt.xlabel(age_range + \"(as a % of all)\")\n",
    "\n",
    "plt.title(\"2019 General Election: leave vote against population aged \" + age_range, fontsize=12)\n",
    "\n",
    "handles, labels = plt.gca().get_legend_handles_labels()\n",
    "# order legend \n",
    "order = [0,1,2,6,3,7,4,13,14,15,8,11,9,10,12,5]\n",
    "\n",
    "plt.legend([handles[idx] for idx in order],[labels[idx] for idx in order])\n",
    "\n",
    "plt.tight_layout()\n",
    "plt.show()"
   ]
  },
  {
   "cell_type": "markdown",
   "metadata": {},
   "source": [
    "From the produced data map above it can be seen that constituencied with older populations (smaller percentage in our range), not only were more likely to vote conservative but more likely to vote leave as well. There is a clear corelation between age and leave vote percentage. The younger constituencies (higher percentage along x) had a much lower leave vote and were moe likely to vote remain. Another key element is the clear conservative gains that occured in constituencies with high leave votes. There were almost no gains in areas where the vote was roughly 50:50 or favoured remain. With the biggest gains in constituencies with leave votes of over 60%. Other details like the fact that SNP seats are all in constituencies with <50% leave vote with the majority around  35-40%"
   ]
  },
  {
   "cell_type": "code",
   "execution_count": null,
   "metadata": {},
   "outputs": [],
   "source": []
  }
 ],
 "metadata": {
  "kernelspec": {
   "display_name": "Python 3",
   "language": "python",
   "name": "python3"
  },
  "language_info": {
   "codemirror_mode": {
    "name": "ipython",
    "version": 3
   },
   "file_extension": ".py",
   "mimetype": "text/x-python",
   "name": "python",
   "nbconvert_exporter": "python",
   "pygments_lexer": "ipython3",
   "version": "3.7.3"
  }
 },
 "nbformat": 4,
 "nbformat_minor": 2
}
